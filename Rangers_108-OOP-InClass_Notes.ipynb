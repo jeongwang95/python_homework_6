{
 "cells": [
  {
   "cell_type": "markdown",
   "metadata": {},
   "source": [
    "# Object-Oriented-Programming (OOP)"
   ]
  },
  {
   "cell_type": "markdown",
   "metadata": {},
   "source": [
    "## Tasks Today:\n",
    "\n",
    "   \n",
    "\n",
    "1) <b>Creating a Class (Initializing/Declaring)</b> <br>\n",
    "2) <b>Using a Class (Instantiating)</b> <br>\n",
    " &nbsp;&nbsp;&nbsp;&nbsp; a) Creating One Instance <br>\n",
    " &nbsp;&nbsp;&nbsp;&nbsp; b) Creating Multiple Instances <br>\n",
    " &nbsp;&nbsp;&nbsp;&nbsp; c) In-Class Exercise #1 - Create a Class 'Car' and instantiate three different makes of cars <br>\n",
    "3) <b>The \\__init\\__() Method</b> <br>\n",
    " &nbsp;&nbsp;&nbsp;&nbsp; a) The 'self' Attribute <br>\n",
    "4) <b>Class Attributes</b> <br>\n",
    " &nbsp;&nbsp;&nbsp;&nbsp; a) Initializing Attributes <br>\n",
    " &nbsp;&nbsp;&nbsp;&nbsp; b) Setting an Attribute Outside of the \\__init\\__() Method <br>\n",
    " &nbsp;&nbsp;&nbsp;&nbsp; c) Setting Defaults for Attributes <br>\n",
    " &nbsp;&nbsp;&nbsp;&nbsp; d) Accessing Class Attributes <br>\n",
    " &nbsp;&nbsp;&nbsp;&nbsp; e) Changing Class Attributes <br>\n",
    " &nbsp;&nbsp;&nbsp;&nbsp; f) In-Class Exercise #2 - Add a color and wheels attribute to your 'Car' class <br>\n",
    "5) <b>Class Methods</b> <br>\n",
    " &nbsp;&nbsp;&nbsp;&nbsp; a) Creating <br>\n",
    " &nbsp;&nbsp;&nbsp;&nbsp; b) Calling <br>\n",
    " &nbsp;&nbsp;&nbsp;&nbsp; c) Modifying an Attribute's Value Through a Method <br>\n",
    " &nbsp;&nbsp;&nbsp;&nbsp; d) Incrementing an Attribute's Value Through a Method <br>\n",
    " &nbsp;&nbsp;&nbsp;&nbsp; e) In-Class Exercise #3 - Add a method that prints the cars color and wheel number, then call them <br>\n",
    "6) <b>Inheritance</b> <br>\n",
    " &nbsp;&nbsp;&nbsp;&nbsp; a) Syntax for Inheriting from a Parent Class <br>\n",
    " &nbsp;&nbsp;&nbsp;&nbsp; b) The \\__init\\__() Method for a Child Class (super()) <br>\n",
    " &nbsp;&nbsp;&nbsp;&nbsp; c) Defining Attributes and Methods for the Child Class <br>\n",
    " &nbsp;&nbsp;&nbsp;&nbsp; d) Method Overriding <br>\n",
    " &nbsp;&nbsp;&nbsp;&nbsp; e) In-Class Exercise #4 - Create a class 'Ford' that inherits from 'Car' class and initialize it as a Blue Ford Explorer with 4 wheels using the super() method <br>\n",
    "7) <b>Classes as Attributes</b> <br>\n",
    "8) <b>Exercises</b> <br>\n",
    " &nbsp;&nbsp;&nbsp;&nbsp; a) Exercise #1 - Turn the shopping cart program from last week into an object-oriented program <br>"
   ]
  },
  {
   "cell_type": "markdown",
   "metadata": {},
   "source": [
    "## Creating a Class (Initializing/Declaring)\n",
    "<p>When creating a class, function, or even a variable you are initializing that object. Initializing and Declaring occur at the same time in Python, whereas in lower level languages you have to declare an object before initializing it. This is the first step in the process of using a class.</p>"
   ]
  },
  {
   "cell_type": "code",
   "execution_count": 1,
   "metadata": {},
   "outputs": [],
   "source": [
    "class Car():\n",
    "    wheels = 4\n",
    "    color = 'blue'"
   ]
  },
  {
   "cell_type": "markdown",
   "metadata": {},
   "source": [
    "## Using a Class (Instantiating)\n",
    "<p>The process of creating a class is called <i>Instantiating</i>. Each time you create a variable of that type of class, it is referred to as an <i>Instance</i> of that class. This is the second step in the process of using a class.</p>"
   ]
  },
  {
   "cell_type": "markdown",
   "metadata": {},
   "source": [
    "##### Creating One Instance"
   ]
  },
  {
   "cell_type": "code",
   "execution_count": 3,
   "metadata": {},
   "outputs": [
    {
     "name": "stdout",
     "output_type": "stream",
     "text": [
      "4\n",
      "blue\n",
      "{}\n"
     ]
    }
   ],
   "source": [
    "ford = Car()\n",
    "print(ford.wheels)\n",
    "print(ford.color)\n",
    "\n",
    "print(ford.__dict__)"
   ]
  },
  {
   "cell_type": "markdown",
   "metadata": {},
   "source": [
    "##### Creating Multiple Instances"
   ]
  },
  {
   "cell_type": "code",
   "execution_count": 5,
   "metadata": {},
   "outputs": [
    {
     "name": "stdout",
     "output_type": "stream",
     "text": [
      "blue\n",
      "4\n"
     ]
    }
   ],
   "source": [
    "mazda = Car()\n",
    "\n",
    "honda = Car()\n",
    "\n",
    "mclaren = Car()\n",
    "\n",
    "print(mazda.color)\n",
    "print(mclaren.wheels)"
   ]
  },
  {
   "cell_type": "markdown",
   "metadata": {},
   "source": [
    "##### In-Class Exercise #1 - Create a Class 'Car' and Instantiate three different makes of cars"
   ]
  },
  {
   "cell_type": "code",
   "execution_count": 13,
   "metadata": {},
   "outputs": [
    {
     "name": "stdout",
     "output_type": "stream",
     "text": [
      "{'model': 'prius', 'year': 2023, 'fuel': 'hybrid'}\n",
      "{'model': 'model 3', 'year': 2017, 'fuel': 'electric'}\n",
      "{'model': 'm3', 'year': 1990, 'fuel': 'gasoline'}\n"
     ]
    }
   ],
   "source": [
    "class Car():\n",
    "    def __init__(self, model, year, fuel):\n",
    "        self.model = model\n",
    "        self.year = year\n",
    "        self.fuel = fuel\n",
    "        \n",
    "toyota = Car(\"prius\", 2023, \"hybrid\")\n",
    "tesla = Car(\"model 3\", 2017, \"electric\")\n",
    "bmw = Car(\"m3\", 1990, \"gasoline\")\n",
    "\n",
    "print(toyota.__dict__)\n",
    "print(tesla.__dict__)\n",
    "print(bmw.__dict__)"
   ]
  },
  {
   "cell_type": "markdown",
   "metadata": {},
   "source": [
    "## The \\__init\\__() Method <br>\n",
    "<p>This method is used in almost every created class, and called only once upon the creation of the class instance. This method will initialize all variables needed for the object.</p>"
   ]
  },
  {
   "cell_type": "code",
   "execution_count": 16,
   "metadata": {},
   "outputs": [
    {
     "name": "stdout",
     "output_type": "stream",
     "text": [
      "True\n",
      "{'wheels': 4, 'color': 'blue', 'doors': 4}\n",
      "red\n",
      "green\n",
      "silver\n"
     ]
    }
   ],
   "source": [
    "class Car():\n",
    "    FAST = True\n",
    "    \n",
    "    def __init__(self, wheels, color, doors):\n",
    "        self.wheels = wheels\n",
    "        self.color = color\n",
    "        self.doors = doors\n",
    "        \n",
    "mazda = Car(4, \"blue\", 4)\n",
    "print(mazda.FAST)\n",
    "print(mazda.__dict__)\n",
    "\n",
    "mclaren = Car(4, \"red\", 2)\n",
    "print(mclaren.color)\n",
    "\n",
    "honda = Car(4, \"green\", 4)\n",
    "print(honda.color)\n",
    "\n",
    "ford = Car(6, \"silver\", 4)\n",
    "print(ford.color)"
   ]
  },
  {
   "cell_type": "markdown",
   "metadata": {},
   "source": [
    "##### The 'self' Attribute <br>\n",
    "<p>This attribute is required to keep track of specific instance's attributes. Without the self attribute, the program would not know how to reference or keep track of an instance's attributes.</p>"
   ]
  },
  {
   "cell_type": "code",
   "execution_count": null,
   "metadata": {},
   "outputs": [],
   "source": [
    "# see above"
   ]
  },
  {
   "cell_type": "markdown",
   "metadata": {},
   "source": [
    "## Class Attributes <br>\n",
    "<p>While variables are inside of a class, they are referred to as attributes and not variables. When someone says 'attribute' you know they're speaking about a class. Attributes can be initialized through the init method, or outside of it.</p>"
   ]
  },
  {
   "cell_type": "markdown",
   "metadata": {},
   "source": [
    "##### Initializing Attributes"
   ]
  },
  {
   "cell_type": "code",
   "execution_count": null,
   "metadata": {},
   "outputs": [],
   "source": [
    "# see above"
   ]
  },
  {
   "cell_type": "markdown",
   "metadata": {},
   "source": [
    "##### Accessing Class Attributes"
   ]
  },
  {
   "cell_type": "code",
   "execution_count": null,
   "metadata": {
    "scrolled": true
   },
   "outputs": [],
   "source": [
    "# See Above"
   ]
  },
  {
   "cell_type": "markdown",
   "metadata": {},
   "source": [
    "##### Setting Defaults for Attributes"
   ]
  },
  {
   "cell_type": "code",
   "execution_count": 18,
   "metadata": {},
   "outputs": [
    {
     "name": "stdout",
     "output_type": "stream",
     "text": [
      "blue\n"
     ]
    }
   ],
   "source": [
    "class Car():\n",
    "    def __init__(self, wheels):\n",
    "        self.wheels = wheels\n",
    "        self.color = \"blue\"\n",
    "        \n",
    "honda = Car(4)\n",
    "print(honda.color)"
   ]
  },
  {
   "cell_type": "code",
   "execution_count": 20,
   "metadata": {},
   "outputs": [
    {
     "name": "stdout",
     "output_type": "stream",
     "text": [
      "red\n",
      "green\n"
     ]
    }
   ],
   "source": [
    "class Car():\n",
    "    def __init__(self, wheels, color = \"red\"):\n",
    "        self.wheels = wheels\n",
    "        self.color = color\n",
    "        \n",
    "honda = Car(4)\n",
    "print(honda.color)\n",
    "mazda = Car(4,\"green\")\n",
    "print(mazda.color)"
   ]
  },
  {
   "cell_type": "markdown",
   "metadata": {},
   "source": [
    "##### Changing Class Attributes <br>\n",
    "<p>Keep in mind there are global class attributes and then there are attributes only available to each class instance which won't effect other classes.</p>"
   ]
  },
  {
   "cell_type": "code",
   "execution_count": 21,
   "metadata": {},
   "outputs": [
    {
     "name": "stdout",
     "output_type": "stream",
     "text": [
      "before attribute change red\n",
      "after attribute change green\n"
     ]
    }
   ],
   "source": [
    "class Car():\n",
    "    def __init__(self, wheels, color = \"red\"):\n",
    "        self.wheels = wheels\n",
    "        self.color = color\n",
    "        \n",
    "honda = Car(4)\n",
    "\n",
    "print(f\"before attribute change {honda.color}\")\n",
    "honda.color = \"green\"\n",
    "print(f\"after attribute change {honda.color}\")"
   ]
  },
  {
   "cell_type": "code",
   "execution_count": 22,
   "metadata": {},
   "outputs": [
    {
     "name": "stdout",
     "output_type": "stream",
     "text": [
      "before attribute change blue\n",
      "after attribute change yellow\n"
     ]
    }
   ],
   "source": [
    "class Car():\n",
    "    def __init__(self, wheels):\n",
    "        self.wheels = wheels\n",
    "        self.color = \"blue\"\n",
    "        \n",
    "honda = Car(4)\n",
    "\n",
    "print(f\"before attribute change {honda.color}\")\n",
    "honda.color = \"yellow\"\n",
    "print(f\"after attribute change {honda.color}\")"
   ]
  },
  {
   "cell_type": "markdown",
   "metadata": {},
   "source": [
    "##### In-Class Exercise #2 - Add two new attributes to your 'Car' class then print out two different instances with different doors and seats. Then take that bad boy to the shop and change those attributes. Either with an input or just by changing them\n"
   ]
  },
  {
   "cell_type": "code",
   "execution_count": 25,
   "metadata": {},
   "outputs": [
    {
     "name": "stdout",
     "output_type": "stream",
     "text": [
      "before alteration: doors = 4 seats = 4\n",
      "after alteration: doors = 2 seats = 2\n"
     ]
    }
   ],
   "source": [
    "class Car():\n",
    "    def __init__(self, wheels, doors, seats):\n",
    "        self.wheels = wheels\n",
    "        self.color = \"blue\"\n",
    "        self.doors = doors\n",
    "        self.seats = seats\n",
    "        \n",
    "honda = Car(4,4,4)\n",
    "print(f\"before alteration: doors = {honda.doors} seats = {honda.seats}\")\n",
    "\n",
    "honda.doors = 2\n",
    "honda.seats = 2\n",
    "print(f\"after alteration: doors = {honda.doors} seats = {honda.seats}\")"
   ]
  },
  {
   "cell_type": "markdown",
   "metadata": {},
   "source": [
    "## Class Methods <br>\n",
    "<p>While inside of a class, functions are referred to as 'methods'. If you hear someone mention methods, they're speaking about classes. Methods are essentially functions, but only callable on the instances of a class.</p>"
   ]
  },
  {
   "cell_type": "markdown",
   "metadata": {},
   "source": [
    "##### Creating"
   ]
  },
  {
   "cell_type": "code",
   "execution_count": 38,
   "metadata": {},
   "outputs": [],
   "source": [
    "class Bus():\n",
    "    \"\"\"\n",
    "    The bus will have doors, seats, seats, available, color, and a bus driver\n",
    "    \n",
    "    Attributes for the bus:\n",
    "    -doors: int\n",
    "    -seats: int\n",
    "    -seats_available: int\n",
    "    -color: string\n",
    "    -bus_driver: string\n",
    "    \n",
    "    \"\"\"\n",
    "    def __init__(self, doors, seats, seats_available, color, bus_driver):\n",
    "        self.doors = doors\n",
    "        self.seats = seats\n",
    "        self.seats_available = seats_available\n",
    "        self.color = color\n",
    "        self.bus_driver = bus_driver\n",
    "        \n",
    "    # decrement the number of seats available\n",
    "    def load_passengers(self):\n",
    "        if self.seats_available <= 0:\n",
    "            print(\"This bus is full.\")\n",
    "            if self.seats_available < 0:\n",
    "                print(f\"You left {abs(self.seats_available)} by the road.\")\n",
    "                self.seats_available = 0\n",
    "        else:\n",
    "            passengers = int(input(\"How many passengers are getting on? \"))\n",
    "            self.seats_available -= passengers\n",
    "            print(f\"{passengers} passengers have boarded. There are {self.seats_available} seats left on the bus\")\n",
    "\n",
    "    # increment the number of seats available\n",
    "    def unload_passengers(self):\n",
    "        if self.seats_available >= self.seats:\n",
    "            print(\"There is no one on the bus to unload\")\n",
    "        else:\n",
    "            unload = int(input(\"How many passengers are getting off the bus? \"))\n",
    "            self.seats_available += unload\n",
    "            if self.seats_available >= self.seats:\n",
    "                self.seats_available = self.seats\n",
    "            print(f\"{unload} passengers have left the bus. There are {self.seats_available} seats left\")\n",
    "\n",
    "    # change the bus_driver attribute\n",
    "    def change_driver(self):\n",
    "        change = input(\"Who is replacing you? \")\n",
    "        self.bus_driver = change\n",
    "        print(f\"The new bus driver is {self.bus_driver}\")\n",
    "\n",
    "    # display available seats\n",
    "    def check_seats(self):\n",
    "        print(f\"There are {self.seats_available} seats available\")\n",
    "\n",
    "    # display bus color\n",
    "    def admire_bus(self):\n",
    "        print(f\"Color of the bus is {self.color}\")\n",
    "            \n",
    "the_bus = Bus(2, 90, 45, \"blue\", \"ryan\")"
   ]
  },
  {
   "cell_type": "markdown",
   "metadata": {},
   "source": [
    "##### Calling"
   ]
  },
  {
   "cell_type": "code",
   "execution_count": 39,
   "metadata": {},
   "outputs": [
    {
     "name": "stdout",
     "output_type": "stream",
     "text": [
      "What would you like to do? Load/Unload/Change Driver/Check Seats/Admire/Quit? check seats\n",
      "There are 45 seats available\n",
      "What would you like to do? Load/Unload/Change Driver/Check Seats/Admire/Quit? admire\n",
      "Color of the bus is blue\n",
      "What would you like to do? Load/Unload/Change Driver/Check Seats/Admire/Quit? change driver\n",
      "Who is replacing you? Jeong\n",
      "The new bus driver is Jeong\n",
      "What would you like to do? Load/Unload/Change Driver/Check Seats/Admire/Quit? unload\n",
      "How many passengers are getting off the bus? 40\n",
      "40 passengers have left the bus. There are 85 seats left\n",
      "What would you like to do? Load/Unload/Change Driver/Check Seats/Admire/Quit? check seats\n",
      "There are 85 seats available\n",
      "What would you like to do? Load/Unload/Change Driver/Check Seats/Admire/Quit? quit\n",
      "bye bye\n"
     ]
    }
   ],
   "source": [
    "\n",
    "def run():\n",
    "    while True:\n",
    "        response = input(\"What would you like to do? Load/Unload/Change Driver/Check Seats/Admire/Quit? \")\n",
    "        if response.lower() == \"quit\":\n",
    "            print(\"bye bye\")\n",
    "            break\n",
    "        elif response.lower() == \"load\":\n",
    "            the_bus.load_passengers()\n",
    "        elif response.lower() == \"unload\":\n",
    "            the_bus.unload_passengers()\n",
    "        elif response.lower() == \"change driver\":\n",
    "            the_bus.change_driver()\n",
    "        elif response.lower() == \"check seats\":\n",
    "            the_bus.check_seats()\n",
    "        elif response.lower() == \"admire\":\n",
    "            the_bus.admire_bus()\n",
    "        else:\n",
    "            print(\"Invalid input.\")\n",
    "            \n",
    "run()"
   ]
  },
  {
   "cell_type": "markdown",
   "metadata": {},
   "source": [
    "##### Modifying an Attribute's Value Through a Method"
   ]
  },
  {
   "cell_type": "code",
   "execution_count": null,
   "metadata": {},
   "outputs": [],
   "source": [
    "# see above"
   ]
  },
  {
   "cell_type": "markdown",
   "metadata": {},
   "source": [
    "##### Incrementing an Attribute's Value Through a Method"
   ]
  },
  {
   "cell_type": "code",
   "execution_count": null,
   "metadata": {},
   "outputs": [],
   "source": [
    "# see above"
   ]
  },
  {
   "cell_type": "markdown",
   "metadata": {},
   "source": [
    "##### In-Class Exercise #3 - Add a method that takes in three parameters of year, doors and seats and prints out a formatted print statement with make, model, year, seats, and doors"
   ]
  },
  {
   "cell_type": "code",
   "execution_count": 47,
   "metadata": {},
   "outputs": [
    {
     "name": "stdout",
     "output_type": "stream",
     "text": [
      "This car is from 2019 and is a Ford Expolorer and has 4 doors and 5 seats\n"
     ]
    }
   ],
   "source": [
    "# Create class with 2 paramters inside of the __init__ which are make and model\n",
    "\n",
    "# Inside of the Car class create a method that has 4 parameter in total (self,year,door,seats)\n",
    "\n",
    "# Output: This car is from 2019 and is a Ford Expolorer and has 4 doors and 5 seats\n",
    "\n",
    "class Car():\n",
    "    def __init__(self, make, model):\n",
    "        self.make = make\n",
    "        self.model = model\n",
    "        self.year = 2023\n",
    "        self.door = 2\n",
    "        self.seats = 2\n",
    "        \n",
    "    def change_info(self, year, door, seats):\n",
    "        self.year = year\n",
    "        self.door = door\n",
    "        self.seats = seats   \n",
    "    \n",
    "    def display_info(self):\n",
    "        print(f\"This car is from {self.year} and is a {self.make} {self.model} and has {self.door} doors and {self.seats} seats\")\n",
    "        \n",
    "        \n",
    "my_car = Car(\"Ford\", \"Expolorer\")\n",
    "my_car.change_info(2019, 4 ,5)\n",
    "my_car.display_info()"
   ]
  },
  {
   "cell_type": "markdown",
   "metadata": {},
   "source": [
    "## Inheritance <br>\n",
    "<p>You can create a child-parent relationship between two classes by using inheritance. What this allows you to do is have overriding methods, but also inherit traits from the parent class. Think of it as an actual parent and child, the child will inherit the parent's genes, as will the classes in OOP</p>"
   ]
  },
  {
   "cell_type": "markdown",
   "metadata": {},
   "source": [
    "##### Syntax for Inheriting from a Parent Class"
   ]
  },
  {
   "cell_type": "code",
   "execution_count": 64,
   "metadata": {},
   "outputs": [],
   "source": [
    "# parent class\n",
    "class Animal():\n",
    "    ACC = 9.8\n",
    "    def __init__(self, name, species, legs = 4):\n",
    "        self.name = name\n",
    "        self.species = species\n",
    "        self.legs = legs\n",
    "        \n",
    "    def make_sound(self):\n",
    "        print(\"EEEEEEEEE\")\n",
    "\n",
    "# child class        \n",
    "class Dog(Animal):\n",
    "    SPEED = 15\n",
    "    \n",
    "    def print_info(self):\n",
    "        print(f\"{self.name} runs at {self.SPEED} mph and accelerates at {self.ACC} mps^2\")\n",
    "        \n",
    "# grandchild class\n",
    "class Mutt(Dog):\n",
    "    COLOR = \"beige\"\n",
    "    \n",
    "    # access the Animal init calss through the Dog class\n",
    "    def __init__(self, name, species, eye_color, legs = 4):\n",
    "        Dog.__init__(self, name, species,legs)\n",
    "        self.eye_color = eye_color\n",
    "        \n",
    "    # override the make_sound method\n",
    "    def make_sound(self):\n",
    "        print(\"woof\")"
   ]
  },
  {
   "cell_type": "code",
   "execution_count": 56,
   "metadata": {},
   "outputs": [
    {
     "name": "stdout",
     "output_type": "stream",
     "text": [
      "9.8\n",
      "Greg\n",
      "EEEEEEEEE\n"
     ]
    }
   ],
   "source": [
    "elephant = Animal('Greg', 'elephant')\n",
    "print(elephant.ACC)\n",
    "print(elephant.name)\n",
    "elephant.make_sound()"
   ]
  },
  {
   "cell_type": "code",
   "execution_count": 52,
   "metadata": {
    "scrolled": true
   },
   "outputs": [
    {
     "name": "stdout",
     "output_type": "stream",
     "text": [
      "Precious runs at 15 mph and accelerates at 9.8 mps^2\n"
     ]
    }
   ],
   "source": [
    "maltese = Dog('Precious', 'Maltese')\n",
    "maltese.print_info()"
   ]
  },
  {
   "cell_type": "code",
   "execution_count": 60,
   "metadata": {},
   "outputs": [
    {
     "name": "stdout",
     "output_type": "stream",
     "text": [
      "woof\n",
      "kiwi runs at 15 mph and accelerates at 9.8 mps^2\n",
      "brown\n"
     ]
    }
   ],
   "source": [
    "kiwi = Mutt('kiwi', 'dog', 'brown')\n",
    "kiwi.make_sound()\n",
    "kiwi.print_info()\n",
    "print(kiwi.eye_color)"
   ]
  },
  {
   "cell_type": "markdown",
   "metadata": {},
   "source": [
    "##### The \\__init\\__() Method for a Child Class - super()"
   ]
  },
  {
   "cell_type": "code",
   "execution_count": 69,
   "metadata": {
    "scrolled": true
   },
   "outputs": [],
   "source": [
    "# grandchild class\n",
    "class Mutt(Dog):\n",
    "    COLOR = \"beige\"\n",
    "    \n",
    "    # access the Animal init calss through the Dog class\n",
    "    def __init__(self, name, species, eye_color, legs = 4):\n",
    "        super().__init__(name, species,legs)\n",
    "        self.eye_color = eye_color\n",
    "        \n",
    "    # override the make_sound method\n",
    "    def make_sound(self):\n",
    "        print(\"woof\")"
   ]
  },
  {
   "cell_type": "code",
   "execution_count": 75,
   "metadata": {},
   "outputs": [
    {
     "name": "stdout",
     "output_type": "stream",
     "text": [
      "woof\n"
     ]
    }
   ],
   "source": [
    "marley = Mutt('marley', 'dog', 'brown')\n",
    "marley.make_sound()"
   ]
  },
  {
   "cell_type": "markdown",
   "metadata": {},
   "source": [
    "##### Defining Attributes and Methods for the Child Class"
   ]
  },
  {
   "cell_type": "code",
   "execution_count": null,
   "metadata": {},
   "outputs": [],
   "source": [
    "# See Above"
   ]
  },
  {
   "cell_type": "markdown",
   "metadata": {},
   "source": [
    "##### Method Overriding"
   ]
  },
  {
   "cell_type": "code",
   "execution_count": null,
   "metadata": {},
   "outputs": [],
   "source": [
    "# See Above"
   ]
  },
  {
   "cell_type": "markdown",
   "metadata": {},
   "source": [
    "## Classes as Attributes <br>\n",
    "<p>Classes can also be used as attributes within another class. This is useful in situations where you need to keep variables locally stored, instead of globally stored.</p>"
   ]
  },
  {
   "cell_type": "code",
   "execution_count": 81,
   "metadata": {},
   "outputs": [
    {
     "name": "stdout",
     "output_type": "stream",
     "text": [
      "<__main__.Battery object at 0x7fba0e5cb070>\n",
      "{'cells': 20}\n",
      "20\n",
      "2022 Tesla Model Y 20\n"
     ]
    }
   ],
   "source": [
    "class Battery():\n",
    "    VOLTZ = 7.8\n",
    "    \n",
    "    def __init__(self, cells):\n",
    "        self.cells = cells\n",
    "        \n",
    "class Car():\n",
    "    def __init__(self, year, make, model, battery):\n",
    "        self.year = year\n",
    "        self.make = make\n",
    "        self.model = model\n",
    "        self.battery = battery\n",
    "        \n",
    "    def print_info(self):\n",
    "        print(f\"{self.year} {self.make} {self.model} {self.battery.cells}\")\n",
    "        \n",
    "batt = Battery(20)\n",
    "\n",
    "tesla = Car(2022, \"Tesla\", \"Model Y\", batt)\n",
    "\n",
    "print(tesla.battery)\n",
    "print(tesla.battery.__dict__)\n",
    "print(tesla.battery.cells)\n",
    "\n",
    "tesla.print_info()"
   ]
  },
  {
   "cell_type": "markdown",
   "metadata": {},
   "source": [
    "# Exercises"
   ]
  },
  {
   "cell_type": "markdown",
   "metadata": {},
   "source": [
    "### Exercise 1 - Turn the shopping cart program from yesterday into an object-oriented program\n",
    "\n",
    "The comments in the cell below are there as a guide for thinking about the problem. However, if you feel a different way is best for you and your own thought process, please do what feels best for you by all means."
   ]
  },
  {
   "cell_type": "code",
   "execution_count": 94,
   "metadata": {},
   "outputs": [
    {
     "name": "stdout",
     "output_type": "stream",
     "text": [
      "Looks like you have everything that you need. Thanks for shopping with us!\n"
     ]
    }
   ],
   "source": [
    "from IPython.display import clear_output\n",
    "\n",
    "# Create a class called cart that retains items and has methods to add, remove, and show\n",
    "\n",
    "class Cart():\n",
    "    \"\"\"\n",
    "    Cart object has two attribute: budget & in_cart\n",
    "    \n",
    "    budget: float\n",
    "    in_cart: dictionary\n",
    "    \n",
    "    \"\"\"\n",
    "    def __init__(self, budget, in_cart={}):\n",
    "        self.budget = budget\n",
    "        self.in_cart = in_cart\n",
    "        \n",
    "    # user inputs item, qty, and price and it gets added to in_cart dictionary\n",
    "    def add_item(self):\n",
    "        item = input(\"What do you want to add to your cart? \")\n",
    "        qty = int(input(\"How many do you want to add to your cart? \"))\n",
    "        price = float(input(\"How much does it cost? (Please enter the price per item) $\"))\n",
    "        self.in_cart[item.lower()] = [qty,price]\n",
    "        print(f\"{item} has been added to your cart.\")\n",
    "        \n",
    "    # user inputs an item they want to remove \n",
    "    # if the item is in our cart, remove else throw an error message\n",
    "    def remove_item(self):\n",
    "        item = input(\"What do you want to remove from your shopping cart? \")\n",
    "        if item.lower() in self.in_cart:\n",
    "            del self.in_cart[item.lower()]\n",
    "            print(f\"{item} has been removed from your shopping cart.\")\n",
    "        else:\n",
    "            print(f\"{item} is not in your shopping cart.\")\n",
    "            \n",
    "    # user inputs an item they want to edit\n",
    "    # if the item is in our cart, ask the user if they want to edit qty, price, or both\n",
    "    # else throw error message\n",
    "    def edit_item(self):\n",
    "        item = input(\"Which item in your shopping cart do you want to edit? \")\n",
    "        if item.lower() in self.in_cart:\n",
    "            response = input(\"Do you want to edit 'Qty','Price', or 'Both'? \")\n",
    "            if response.lower() == 'qty':\n",
    "                qty = int(input(\"Input the new quantity: \"))\n",
    "                self.in_cart[item.lower()][0] = qty\n",
    "                print(f\"{item} quantity has been updated.\")\n",
    "            elif response.lower() == 'price':\n",
    "                price = float(input(\"Input the new price: \"))\n",
    "                self.in_cart[item.lower()][1] = price\n",
    "                print(f\"{item} price has been updated.\")\n",
    "            elif response.lower() == 'both':\n",
    "                qty = int(input(\"Input the new quantity: \"))\n",
    "                price = float(input(\"Input the new price: \"))\n",
    "                self.in_cart[item.lower()][0] = qty\n",
    "                self.in_cart[item.lower()][1] = price\n",
    "                print(f\"{item} quantity and price have been updated.\")\n",
    "            else:\n",
    "                print(\"Invalid input.\")\n",
    "        else:\n",
    "            print(f\"{item} is not your shopping cart.\")\n",
    "            \n",
    "    \n",
    "    # shows a table of all of items including its qty & price\n",
    "    # also shows the grand total cost and how close you are from your budget\n",
    "    def show_item(self):\n",
    "        grand_cost = 0\n",
    "        \n",
    "        print(\"Item\\t\\tQty\\t\\tPrice of Item\\t\\tTotal Cost of Item\")\n",
    "        \n",
    "        for item, cost in self.in_cart.items():\n",
    "            total_cost = cost[0]*cost[1] # total cost = qty of item * price of item\n",
    "            grand_cost += total_cost\n",
    "            print(f\"{item}\\t\\t{cost[0]}\\t\\t$ {cost[1]}\\t\\t\\t$ {total_cost}\")\n",
    "            \n",
    "        print(f\"\\n\\t\\t\\t\\t      Grand Total Cost: $ {grand_cost}\\n\")\n",
    "        \n",
    "        budget_check = self.budget - grand_cost\n",
    "        if budget_check > 0:\n",
    "            print(f\"You are currently $ {budget_check} under your budget.\")\n",
    "        elif budget_check < 0:\n",
    "            print(f\"You are currently $ {abs(budget_check)} over your budget.\")\n",
    "        else:\n",
    "            print(\"You are right on budget!\")\n",
    "        \n",
    "def run():\n",
    "    budget = float(input(\"What is your budget? $\"))\n",
    "    my_cart = Cart(budget)\n",
    "    \n",
    "    while True:\n",
    "        response = input(\"Do you want to 'View' shopping cart or 'Add'/'Remove'/'Edit' from shopping cart or 'Quit'? \")\n",
    "        if response.lower() == 'quit':\n",
    "            clear_output()\n",
    "            print(\"Looks like you have everything that you need. Thanks for shopping with us!\")\n",
    "            break\n",
    "        elif response.lower() == 'add':\n",
    "            clear_output()\n",
    "            my_cart.add_item()\n",
    "        elif response.lower() == 'remove':\n",
    "            clear_output()\n",
    "            my_cart.remove_item()\n",
    "        elif response.lower() == 'edit':\n",
    "            clear_output()\n",
    "            my_cart.edit_item()\n",
    "        elif response.lower() == 'view':\n",
    "            clear_output()\n",
    "            my_cart.show_item()\n",
    "        else:\n",
    "            clear_output()\n",
    "            print(\"Invalid input. Please try again.\")\n",
    " \n",
    "run()"
   ]
  },
  {
   "cell_type": "markdown",
   "metadata": {},
   "source": [
    "### Exercise 2 - Write a Python class which has two methods get_String and print_String. get_String accept a string from the user and print_String print the string in upper case"
   ]
  },
  {
   "cell_type": "code",
   "execution_count": 82,
   "metadata": {},
   "outputs": [
    {
     "name": "stdout",
     "output_type": "stream",
     "text": [
      "Input 'Get' to input a new string, input 'Print' to print out your string, or 'Quit' to exit. get\n",
      "Write something: hello world\n",
      "Input 'Get' to input a new string, input 'Print' to print out your string, or 'Quit' to exit. print\n",
      "HELLO WORLD\n",
      "Input 'Get' to input a new string, input 'Print' to print out your string, or 'Quit' to exit. quit\n",
      "Exiting program.\n"
     ]
    }
   ],
   "source": [
    "class Custom_string():\n",
    "    def __init__(self, s = \"\"):\n",
    "        self.s = s\n",
    "        \n",
    "    def get_string(self):\n",
    "        new_str = input(\"Write something: \")\n",
    "        self.s = new_str\n",
    "        \n",
    "    def print_string(self):\n",
    "        print(self.s.upper())\n",
    "        \n",
    "my_str = Custom_string()\n",
    "\n",
    "def run():\n",
    "    while True:\n",
    "        response = input(\"Input 'Get' to input a new string, input 'Print' to print out your string, or 'Quit' to exit. \")\n",
    "        if response.lower() == 'quit':\n",
    "            print('Exiting program.')\n",
    "            break\n",
    "        elif response.lower() == 'get':\n",
    "            my_str.get_string()\n",
    "        elif response.lower() == 'print':\n",
    "            my_str.print_string()\n",
    "        else:\n",
    "            print(\"Invalid Input. Please try again\")\n",
    "            \n",
    "run()"
   ]
  }
 ],
 "metadata": {
  "kernelspec": {
   "display_name": "Python 3 (ipykernel)",
   "language": "python",
   "name": "python3"
  },
  "language_info": {
   "codemirror_mode": {
    "name": "ipython",
    "version": 3
   },
   "file_extension": ".py",
   "mimetype": "text/x-python",
   "name": "python",
   "nbconvert_exporter": "python",
   "pygments_lexer": "ipython3",
   "version": "3.9.13"
  }
 },
 "nbformat": 4,
 "nbformat_minor": 2
}
